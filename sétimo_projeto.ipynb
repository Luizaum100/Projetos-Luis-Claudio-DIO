{
  "nbformat": 4,
  "nbformat_minor": 0,
  "metadata": {
    "colab": {
      "provenance": []
    },
    "kernelspec": {
      "name": "python3",
      "display_name": "Python 3"
    },
    "language_info": {
      "name": "python"
    }
  },
  "cells": [
    {
      "cell_type": "code",
      "execution_count": 1,
      "metadata": {
        "colab": {
          "base_uri": "https://localhost:8080/"
        },
        "id": "0S-TWZO_70dY",
        "outputId": "24871796-557d-4192-ee02-cf654edaeda5"
      },
      "outputs": [
        {
          "output_type": "stream",
          "name": "stdout",
          "text": [
            "Collecting SpeechRecognition\n",
            "  Downloading speechrecognition-3.14.3-py3-none-any.whl.metadata (30 kB)\n",
            "Collecting gTTS\n",
            "  Downloading gTTS-2.5.4-py3-none-any.whl.metadata (4.1 kB)\n",
            "Collecting pyttsx3\n",
            "  Downloading pyttsx3-2.99-py3-none-any.whl.metadata (6.2 kB)\n",
            "Collecting wikipedia-api\n",
            "  Downloading wikipedia_api-0.8.1.tar.gz (19 kB)\n",
            "  Preparing metadata (setup.py) ... \u001b[?25l\u001b[?25hdone\n",
            "Requirement already satisfied: geocoder in /usr/local/lib/python3.11/dist-packages (1.38.1)\n",
            "Requirement already satisfied: typing-extensions in /usr/local/lib/python3.11/dist-packages (from SpeechRecognition) (4.14.1)\n",
            "Requirement already satisfied: requests<3,>=2.27 in /usr/local/lib/python3.11/dist-packages (from gTTS) (2.32.3)\n",
            "Collecting click<8.2,>=7.1 (from gTTS)\n",
            "  Downloading click-8.1.8-py3-none-any.whl.metadata (2.3 kB)\n",
            "Requirement already satisfied: future in /usr/local/lib/python3.11/dist-packages (from geocoder) (1.0.0)\n",
            "Requirement already satisfied: ratelim in /usr/local/lib/python3.11/dist-packages (from geocoder) (0.1.6)\n",
            "Requirement already satisfied: six in /usr/local/lib/python3.11/dist-packages (from geocoder) (1.17.0)\n",
            "Requirement already satisfied: charset-normalizer<4,>=2 in /usr/local/lib/python3.11/dist-packages (from requests<3,>=2.27->gTTS) (3.4.2)\n",
            "Requirement already satisfied: idna<4,>=2.5 in /usr/local/lib/python3.11/dist-packages (from requests<3,>=2.27->gTTS) (3.10)\n",
            "Requirement already satisfied: urllib3<3,>=1.21.1 in /usr/local/lib/python3.11/dist-packages (from requests<3,>=2.27->gTTS) (2.5.0)\n",
            "Requirement already satisfied: certifi>=2017.4.17 in /usr/local/lib/python3.11/dist-packages (from requests<3,>=2.27->gTTS) (2025.7.14)\n",
            "Requirement already satisfied: decorator in /usr/local/lib/python3.11/dist-packages (from ratelim->geocoder) (4.4.2)\n",
            "Downloading speechrecognition-3.14.3-py3-none-any.whl (32.9 MB)\n",
            "\u001b[2K   \u001b[90m━━━━━━━━━━━━━━━━━━━━━━━━━━━━━━━━━━━━━━━━\u001b[0m \u001b[32m32.9/32.9 MB\u001b[0m \u001b[31m57.3 MB/s\u001b[0m eta \u001b[36m0:00:00\u001b[0m\n",
            "\u001b[?25hDownloading gTTS-2.5.4-py3-none-any.whl (29 kB)\n",
            "Downloading pyttsx3-2.99-py3-none-any.whl (32 kB)\n",
            "Downloading click-8.1.8-py3-none-any.whl (98 kB)\n",
            "\u001b[2K   \u001b[90m━━━━━━━━━━━━━━━━━━━━━━━━━━━━━━━━━━━━━━━━\u001b[0m \u001b[32m98.2/98.2 kB\u001b[0m \u001b[31m8.1 MB/s\u001b[0m eta \u001b[36m0:00:00\u001b[0m\n",
            "\u001b[?25hBuilding wheels for collected packages: wikipedia-api\n",
            "  Building wheel for wikipedia-api (setup.py) ... \u001b[?25l\u001b[?25hdone\n",
            "  Created wheel for wikipedia-api: filename=Wikipedia_API-0.8.1-py3-none-any.whl size=15383 sha256=242b5b2237bd157f1f32ba0c1c57f49738a63734efd80b1fda4931e048f2e244\n",
            "  Stored in directory: /root/.cache/pip/wheels/0b/0f/39/e8214ec038ccd5aeb8c82b957289f2f3ab2251febeae5c2860\n",
            "Successfully built wikipedia-api\n",
            "Installing collected packages: pyttsx3, SpeechRecognition, click, wikipedia-api, gTTS\n",
            "  Attempting uninstall: click\n",
            "    Found existing installation: click 8.2.1\n",
            "    Uninstalling click-8.2.1:\n",
            "      Successfully uninstalled click-8.2.1\n",
            "Successfully installed SpeechRecognition-3.14.3 click-8.1.8 gTTS-2.5.4 pyttsx3-2.99 wikipedia-api-0.8.1\n"
          ]
        }
      ],
      "source": [
        "!pip install SpeechRecognition gTTS pyttsx3 wikipedia-api geocoder"
      ]
    },
    {
      "cell_type": "code",
      "source": [
        "from gtts import gTTS\n",
        "import os\n",
        "\n",
        "def text_to_speech(text, filename=\"output.mp3\"):\n",
        "    tts = gTTS(text=text, lang='pt')  # 'pt' pra português\n",
        "    tts.save(filename)\n",
        "    os.system(f\"mpg123 {filename}\")  # Tenta reproduzir o áudio (pode não funcionar no Colab)\n",
        "\n",
        "# Teste\n",
        "text_to_speech(\"Olá, eu sou seu assistente virtual!\")"
      ],
      "metadata": {
        "id": "19tPfN8k78n7"
      },
      "execution_count": 2,
      "outputs": []
    },
    {
      "cell_type": "code",
      "source": [
        "import speech_recognition as sr\n",
        "\n",
        "def speech_to_text():\n",
        "    recognizer = sr.Recognizer()\n",
        "    with sr.Microphone() as source:\n",
        "        print(\"Diga algo...\")\n",
        "        recognizer.adjust_for_ambient_noise(source)\n",
        "        audio = recognizer.listen(source)\n",
        "        try:\n",
        "            text = recognizer.recognize_google(audio, language='pt-BR')\n",
        "            print(f\"Você disse: {text}\")\n",
        "            return text\n",
        "        except sr.UnknownValueError:\n",
        "            print(\"Não entendi o que você disse.\")\n",
        "            return \"\"\n",
        "        except sr.RequestError:\n",
        "            print(\"Erro ao conectar com o serviço de reconhecimento.\")\n",
        "            return \"\"\n",
        "\n",
        "# Teste (funciona localmente)\n",
        "# text = speech_to_text()"
      ],
      "metadata": {
        "id": "zwdKqUB_8FMs"
      },
      "execution_count": 3,
      "outputs": []
    },
    {
      "cell_type": "code",
      "source": [
        "import wikipediaapi\n",
        "import webbrowser\n",
        "import geocoder\n",
        "import requests\n",
        "\n",
        "def execute_command(text):\n",
        "    text = text.lower()\n",
        "\n",
        "    # Pesquisa na Wikipedia\n",
        "    if \"wikipedia\" in text:\n",
        "        query = text.replace(\"wikipedia\", \"\").strip()\n",
        "        wiki = wikipediaapi.Wikipedia(user_agent='my-cool-app/1.0', language='pt')\n",
        "        page = wiki.page(query)\n",
        "        if page.exists():\n",
        "            summary = page.summary[:200]  # Limita o resumo\n",
        "            text_to_speech(f\"Aqui está um resumo sobre {query}: {summary}\")\n",
        "            print(summary)\n",
        "        else:\n",
        "            text_to_speech(\"Desculpe, não encontrei nada sobre isso na Wikipedia.\")\n",
        "\n",
        "    # Abrir YouTube\n",
        "    elif \"youtube\" in text:\n",
        "        text_to_speech(\"Abrindo o YouTube...\")\n",
        "        webbrowser.open(\"https://www.youtube.com\")\n",
        "\n",
        "    # Localizar farmácia\n",
        "    elif \"farmácia\" in text:\n",
        "        g = geocoder.ip('me')  # Geolocalização por IP\n",
        "        lat, lng = g.latlng\n",
        "        text_to_speech(f\"Procurando farmácias perto de você...\")\n",
        "\n",
        "        # Exemplo com Google Places API (requer chave API)\n",
        "        api_key = \"SUA_CHAVE_API\"  # Substitua pela sua chave\n",
        "        url = f\"https://maps.googleapis.com/maps/api/place/nearbysearch/json?location={lat},{lng}&radius=5000&type=pharmacy&key={api_key}\"\n",
        "        response = requests.get(url).json()\n",
        "\n",
        "        if response['results']:\n",
        "            pharmacy = response['results'][0]['name']\n",
        "            address = response['results'][0]['vicinity']\n",
        "            text_to_speech(f\"Farmácia encontrada: {pharmacy}, localizada em {address}\")\n",
        "            print(f\"Farmácia: {pharmacy}, Endereço: {address}\")\n",
        "        else:\n",
        "            text_to_speech(\"Nenhuma farmácia encontrada nas proximidades.\")\n",
        "\n",
        "    else:\n",
        "        text_to_speech(\"Comando não reconhecido.\")\n",
        "\n",
        "# Teste\n",
        "execute_command(\"Pesquisar na Wikipedia sobre Python\")"
      ],
      "metadata": {
        "id": "fGSC0Xgf8S8m"
      },
      "execution_count": 5,
      "outputs": []
    },
    {
      "cell_type": "code",
      "metadata": {
        "id": "61cd538d"
      },
      "source": [
        "def main():\n",
        "    text_to_speech(\"Olá! Como posso ajudar?\")\n",
        "    while True:\n",
        "        command = speech_to_text()\n",
        "        if command:\n",
        "            if \"sair\" in command.lower():\n",
        "                text_to_speech(\"Até mais!\")\n",
        "                break\n",
        "            execute_command(command)\n",
        "\n",
        "if __name__ == \"__main__\":\n",
        "    # main() # Descomente para rodar o loop principal\n",
        "    pass"
      ],
      "execution_count": 6,
      "outputs": []
    }
  ]
}